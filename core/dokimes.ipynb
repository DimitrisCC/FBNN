{
 "cells": [
  {
   "cell_type": "code",
   "execution_count": 4,
   "metadata": {},
   "outputs": [
    {
     "output_type": "error",
     "ename": "ModuleNotFoundError",
     "evalue": "No module named 'data'",
     "traceback": [
      "\u001b[0;31m---------------------------------------------------------------------------\u001b[0m",
      "\u001b[0;31mModuleNotFoundError\u001b[0m                       Traceback (most recent call last)",
      "\u001b[0;32m<ipython-input-4-2731458a4280>\u001b[0m in \u001b[0;36m<module>\u001b[0;34m\u001b[0m\n\u001b[1;32m     17\u001b[0m \u001b[0;31m# sys.path.append(osp.dirname(osp.dirname(osp.abspath(__file__))))\u001b[0m\u001b[0;34m\u001b[0m\u001b[0;34m\u001b[0m\u001b[0;34m\u001b[0m\u001b[0m\n\u001b[1;32m     18\u001b[0m \u001b[0msys\u001b[0m\u001b[0;34m.\u001b[0m\u001b[0mpath\u001b[0m\u001b[0;34m.\u001b[0m\u001b[0mappend\u001b[0m\u001b[0;34m(\u001b[0m\u001b[0mosp\u001b[0m\u001b[0;34m.\u001b[0m\u001b[0mdirname\u001b[0m\u001b[0;34m(\u001b[0m\u001b[0mosp\u001b[0m\u001b[0;34m.\u001b[0m\u001b[0mdirname\u001b[0m\u001b[0;34m(\u001b[0m\u001b[0mPath\u001b[0m\u001b[0;34m(\u001b[0m\u001b[0;34m)\u001b[0m\u001b[0;34m.\u001b[0m\u001b[0mresolve\u001b[0m\u001b[0;34m(\u001b[0m\u001b[0;34m)\u001b[0m\u001b[0;34m)\u001b[0m\u001b[0;34m)\u001b[0m\u001b[0;34m)\u001b[0m\u001b[0;34m\u001b[0m\u001b[0;34m\u001b[0m\u001b[0m\n\u001b[0;32m---> 19\u001b[0;31m \u001b[0;32mfrom\u001b[0m \u001b[0mdata\u001b[0m \u001b[0;32mimport\u001b[0m \u001b[0mSyntheticData\u001b[0m\u001b[0;34m\u001b[0m\u001b[0;34m\u001b[0m\u001b[0m\n\u001b[0m\u001b[1;32m     20\u001b[0m \u001b[0;32mfrom\u001b[0m \u001b[0mutils\u001b[0m\u001b[0;34m.\u001b[0m\u001b[0mutils\u001b[0m \u001b[0;32mimport\u001b[0m \u001b[0mdefault_plotting_new\u001b[0m \u001b[0;32mas\u001b[0m \u001b[0minit_plotting\u001b[0m\u001b[0;34m\u001b[0m\u001b[0;34m\u001b[0m\u001b[0m\n\u001b[1;32m     21\u001b[0m \u001b[0;32mfrom\u001b[0m \u001b[0mutils\u001b[0m\u001b[0;34m.\u001b[0m\u001b[0mnets\u001b[0m \u001b[0;32mimport\u001b[0m \u001b[0mget_posterior\u001b[0m\u001b[0;34m\u001b[0m\u001b[0;34m\u001b[0m\u001b[0m\n",
      "\u001b[0;31mModuleNotFoundError\u001b[0m: No module named 'data'"
     ]
    }
   ],
   "source": [
    "import os.path as osp\n",
    "import os\n",
    "import sys\n",
    "from pathlib import Path\n",
    "\n",
    "import argparse\n",
    "from matplotlib import pyplot as plt\n",
    "import matplotlib\n",
    "import numpy as np\n",
    "import tensorflow as tf\n",
    "\n",
    "os.environ['TF_CPP_MIN_LOG_LEVEL'] = '3'\n",
    "from tensorflow.python.util import deprecation\n",
    "deprecation._PRINT_DEPRECATION_WARNINGS = False\n",
    "\n",
    "import gpflowSlim as gfs\n",
    "# sys.path.append(osp.dirname(osp.dirname(osp.abspath(__file__))))\n",
    "sys.path.append(osp.dirname(osp.dirname(Path().resolve())))\n",
    "from data import SyntheticData\n",
    "from utils.utils import default_plotting_new as init_plotting\n",
    "from utils.nets import get_posterior\n",
    "from core.fvi import EntropyEstimationFVI\n",
    "from utils.logging import get_logger\n",
    "from utils.neural_kernel import NeuralSpectralKernel, NeuralGibbsKernel\n",
    "from utils.utils import median_distance_local\n",
    "\n",
    "matplotlib.use('Agg')"
   ]
  },
  {
   "cell_type": "code",
   "execution_count": 5,
   "metadata": {},
   "outputs": [
    {
     "output_type": "execute_result",
     "data": {
      "text/plain": "PosixPath('/tmp/af20451a-6e0a-4d47-9371-9c6f680a2935')"
     },
     "metadata": {},
     "execution_count": 5
    }
   ],
   "source": [
    "Path().resolve()"
   ]
  },
  {
   "cell_type": "code",
   "execution_count": null,
   "metadata": {},
   "outputs": [],
   "source": [
    "dataset = SyntheticData(args.dataset, return_param_values=False, train_test_split=0.5)\n",
    "original_x_train, original_y_train = dataset.train_samples()\n",
    "mean_x, std_x = np.mean(original_x_train), np.std(original_x_train)\n",
    "mean_y, std_y = np.mean(original_y_train), np.std(original_y_train)\n",
    "train_x = (original_x_train - mean_x) / std_x\n",
    "train_y = (original_y_train - mean_y) / std_y\n",
    "original_x_test, original_y_test = dataset.test_samples()\n",
    "test_x = (original_x_test - mean_x) / std_x\n",
    "test_y = (original_y_test - mean_y) / std_y\n",
    "\n",
    "# y_logstd = np.log(dataset.y_std / std_y)\n",
    "y_logstd = np.log(3. / std_y)\n",
    "\n",
    "lower_ap = np.minimum(np.min(train_x), np.min(test_x))\n",
    "upper_ap = np.maximum(np.max(train_x), np.max(test_x))"
   ]
  }
 ],
 "metadata": {
  "language_info": {
   "codemirror_mode": {
    "name": "ipython",
    "version": 3
   },
   "file_extension": ".py",
   "mimetype": "text/x-python",
   "name": "python",
   "nbconvert_exporter": "python",
   "pygments_lexer": "ipython3",
   "version": "3.6.7-final"
  },
  "orig_nbformat": 2,
  "kernelspec": {
   "name": "4a90d4e0-f39a-4fee-b560-17d233fab9d9",
   "display_name": "'Python Interactive'"
  }
 },
 "nbformat": 4,
 "nbformat_minor": 2
}